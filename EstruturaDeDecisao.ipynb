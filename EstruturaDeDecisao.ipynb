{
  "nbformat": 4,
  "nbformat_minor": 0,
  "metadata": {
    "colab": {
      "name": "EstruturaDeDecisao",
      "provenance": [],
      "authorship_tag": "ABX9TyMm0IOqPfKb5n5/BscdjFEk",
      "include_colab_link": true
    },
    "kernelspec": {
      "name": "python3",
      "display_name": "Python 3"
    }
  },
  "cells": [
    {
      "cell_type": "markdown",
      "metadata": {
        "id": "view-in-github",
        "colab_type": "text"
      },
      "source": [
        "<a href=\"https://colab.research.google.com/github/aquistapace/Python/blob/main/EstruturaDeDecisao.ipynb\" target=\"_parent\"><img src=\"https://colab.research.google.com/assets/colab-badge.svg\" alt=\"Open In Colab\"/></a>"
      ]
    },
    {
      "cell_type": "code",
      "metadata": {
        "id": "iydT6-UP2Uvz",
        "colab": {
          "base_uri": "https://localhost:8080/",
          "height": 72
        },
        "outputId": "8dd88354-cbac-4c37-cc07-cda123fc1de4"
      },
      "source": [
        "#1.Faça um Programa que peça dois números e imprima o maior deles. \n",
        "num1=int(input('Digite um número: '))\n",
        "num2=int(input('Digite outro número: '))\n",
        "\n",
        "#Verificando qual o maior número\n",
        "#Verifico se o primeiro número é maior que o segundo\n",
        "if num1>num2:\n",
        "  print('O primeiro número',num1,'é maior que',num2)\n",
        "#se a condição anterior for falsa verifico se os números são iguais\n",
        "elif num1==num2:\n",
        "  print('Os numeros são iguais')\n",
        "#se as condições anteriores forem falsas imprimo então o segundo número digitado é maior\n",
        "else : print('O segundo número',num2,'é maior que',num1)\n"
      ],
      "execution_count": null,
      "outputs": [
        {
          "output_type": "stream",
          "text": [
            "Digite um número: 5\n",
            "Digite outro número: 15\n",
            "O segundo número 15 é maior que 5\n"
          ],
          "name": "stdout"
        }
      ]
    },
    {
      "cell_type": "code",
      "metadata": {
        "id": "CbmRGz1j44l-",
        "colab": {
          "base_uri": "https://localhost:8080/",
          "height": 54
        },
        "outputId": "d8102fb5-dd03-471e-c45b-34c8d8460472"
      },
      "source": [
        "#19.Faça um Programa que leia um número inteiro menor que 1000 e imprima a quantidade de centenas, dezenas e unidades do mesmo. \n",
        "num_int=int(input('Digite um numero inteiro menor que 1000: '))\n",
        "\n",
        "if num_int>0 and num_int<9:\n",
        "  unidade=num_int%10\n",
        "  if unidade<2:\n",
        "    print(unidade,'unidade')\n",
        "  else:print(unidade,'unidades')\n",
        "elif num_int>9 and num_int<99:\n",
        "  unidade=num_int%10\n",
        "\n",
        "  num=(num_int-unidade)//10\n",
        "  dezena=num%10\n",
        "  \n",
        "  if dezena<2:\n",
        "    print(dezena,'dezena e',unidade,'unidades')\n",
        "  else:print(dezena,'dezenas e',unidade,'unidades')\n",
        "\n",
        "elif num_int>99:\n",
        "  unidade=num_int%10\n",
        "\n",
        "  num=(num_int-unidade)//10\n",
        "  dezena=num%10\n",
        "\n",
        "  centena_1=(num-dezena)//10\n",
        "  centena=centena_1%10\n",
        "  if centena<2:\n",
        "      print(centena,'centena e ',dezena,'dezena e ',unidade,'unidade')\n",
        "  else:  print(centena,'centenas e ',dezena,'dezena e ',unidade,'unidade')\n",
        "\n",
        "\n",
        "\n",
        "\n"
      ],
      "execution_count": null,
      "outputs": [
        {
          "output_type": "stream",
          "text": [
            "Digite um numero inteiro menor que 1000: 1\n",
            "1 unidade\n"
          ],
          "name": "stdout"
        }
      ]
    },
    {
      "cell_type": "code",
      "metadata": {
        "id": "JqFusTKrDn0T",
        "colab": {
          "base_uri": "https://localhost:8080/",
          "height": 146
        },
        "outputId": "c80feb5e-ee3c-4238-f205-b26572b0975a"
      },
      "source": [
        "#25.Faça um programa que faça 5 perguntas para uma pessoa sobre um crime. As perguntas são:\n",
        "print('Responda com 1-Sim ou 0-Não')\n",
        "telefonema=int(input(\"Telefonou para a vítima?\"))\n",
        "esteve_local=int(input(\"Esteve no local do crime?\"))\n",
        "mora_perto=int(input(\"Mora perto da vítima?\"))\n",
        "divida_vitima=int(input(\"Devia para a vítima?\"))\n",
        "trabalhou_vitima=int(input(\"Já trabalhou com a vítima?\" ))\n",
        "\n",
        "resultado=telefonema+esteve_local+mora_perto+divida_vitima+trabalhou_vitima\n",
        "\n",
        "if resultado>0 and resultado<2: print('Suspeita')\n",
        "elif resultado>2 and resultado<5: print('Cumplice')\n",
        "elif resultado>4: print('Assasino')\n",
        "else: print('Inocente')\n"
      ],
      "execution_count": null,
      "outputs": [
        {
          "output_type": "stream",
          "text": [
            "Responda com 1-Sim ou 0-Não\n",
            "Telefonou para a vítima?0\n",
            "Esteve no local do crime?0\n",
            "Mora perto da vítima?0\n",
            "Devia para a vítima?0\n",
            "Já trabalhou com a vítima?0\n",
            "Inocente\n"
          ],
          "name": "stdout"
        }
      ]
    },
    {
      "cell_type": "code",
      "metadata": {
        "id": "tPkHSeGsJvat"
      },
      "source": [
        ""
      ],
      "execution_count": null,
      "outputs": []
    }
  ]
}