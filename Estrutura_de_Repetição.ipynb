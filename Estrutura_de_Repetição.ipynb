{
  "nbformat": 4,
  "nbformat_minor": 0,
  "metadata": {
    "colab": {
      "name": "Estrutura de Repetição",
      "provenance": [],
      "authorship_tag": "ABX9TyPMddtBBusHLJDaOejWLsKU",
      "include_colab_link": true
    },
    "kernelspec": {
      "name": "python3",
      "display_name": "Python 3"
    }
  },
  "cells": [
    {
      "cell_type": "markdown",
      "metadata": {
        "id": "view-in-github",
        "colab_type": "text"
      },
      "source": [
        "<a href=\"https://colab.research.google.com/github/aquistapace/Python/blob/main/Estrutura_de_Repeti%C3%A7%C3%A3o.ipynb\" target=\"_parent\"><img src=\"https://colab.research.google.com/assets/colab-badge.svg\" alt=\"Open In Colab\"/></a>"
      ]
    },
    {
      "cell_type": "code",
      "metadata": {
        "id": "yP_Yy9d0YHPV",
        "colab": {
          "base_uri": "https://localhost:8080/",
          "height": 146
        },
        "outputId": "540df106-5a33-4f29-c24e-5bad8a1655ce"
      },
      "source": [
        "#1.Faça um programa que peça uma nota, entre zero e dez.\n",
        "#Mostre uma mensagem caso o valor seja inválido e continue pedindo até que o usuário informe um valor válido. \n",
        "\n",
        "nota=int(input('Digite uma nota entre 0 e 10: '))\n",
        "if nota>0 and nota<11:\n",
        "  print('A nota digitada foi :', nota)\n",
        "else:\n",
        "    while nota<1 or nota>10:\n",
        "      nota1=int(input('Digite uma nota entre 0 e 10: '))\n",
        "      if nota1>0 and nota1<11:\n",
        "        print('A nota digitada foi :', nota1)\n",
        "        break\n",
        "      \n"
      ],
      "execution_count": null,
      "outputs": [
        {
          "output_type": "stream",
          "text": [
            "Digite uma nota entre 0 e 10: 60\n",
            "Digite uma nota entre 0 e 10: 70\n",
            "Digite uma nota entre 0 e 10: 80\n",
            "Digite uma nota entre 0 e 10: 90\n",
            "Digite uma nota entre 0 e 10: 1000\n",
            "Digite uma nota entre 0 e 10: 5\n",
            "A nota digitada foi : 5\n"
          ],
          "name": "stdout"
        }
      ]
    },
    {
      "cell_type": "code",
      "metadata": {
        "id": "GnMCZDaCbw1G",
        "colab": {
          "base_uri": "https://localhost:8080/",
          "height": 135
        },
        "outputId": "9ebfa3d9-8698-40ca-b0a1-bc79f0e602cc"
      },
      "source": [
        "#2. Faça um programa que leia um nome de usuário e a sua senha e não aceite a senha\n",
        "#igual ao nome do usuário, mostrando uma mensagem de erro e voltando a pedir as informações. \n",
        "\n",
        "usuario=input('Digite seu nome')\n",
        "senha=input('Digite sua senha')\n",
        "\n",
        "\n",
        "while nome==senha:\n",
        "  print('Usuário e senha não podem ser ao nome de usuário')\n",
        "  nome=input('Digite seu nome')\n",
        "  senha=input('Digite sua senha')\n",
        "  if nome1senha:\n",
        "     print('Seu úsuario é', usuario,'e sua senha é ', senha)\n",
        "\n",
        "\n"
      ],
      "execution_count": null,
      "outputs": [
        {
          "output_type": "error",
          "ename": "SyntaxError",
          "evalue": "ignored",
          "traceback": [
            "\u001b[0;36m  File \u001b[0;32m\"<ipython-input-18-f32f7d87ab4b>\"\u001b[0;36m, line \u001b[0;32m12\u001b[0m\n\u001b[0;31m    if nome not senha:\u001b[0m\n\u001b[0m                    ^\u001b[0m\n\u001b[0;31mSyntaxError\u001b[0m\u001b[0;31m:\u001b[0m invalid syntax\n"
          ]
        }
      ]
    }
  ]
}