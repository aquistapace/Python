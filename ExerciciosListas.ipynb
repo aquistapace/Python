{
  "nbformat": 4,
  "nbformat_minor": 0,
  "metadata": {
    "colab": {
      "name": "ExerciciosListas",
      "provenance": [],
      "authorship_tag": "ABX9TyNIjkrZp1dbk3FKKagTsDLw",
      "include_colab_link": true
    },
    "kernelspec": {
      "name": "python3",
      "display_name": "Python 3"
    }
  },
  "cells": [
    {
      "cell_type": "markdown",
      "metadata": {
        "id": "view-in-github",
        "colab_type": "text"
      },
      "source": [
        "<a href=\"https://colab.research.google.com/github/aquistapace/Python/blob/main/ExerciciosListas.ipynb\" target=\"_parent\"><img src=\"https://colab.research.google.com/assets/colab-badge.svg\" alt=\"Open In Colab\"/></a>"
      ]
    },
    {
      "cell_type": "code",
      "metadata": {
        "id": "IayIts_bBNHh",
        "colab": {
          "base_uri": "https://localhost:8080/",
          "height": 33
        },
        "outputId": "fe97ea6b-2a4b-4740-a4fe-f9f8ad6270a3"
      },
      "source": [
        "#1. Faça um Programa que leia um vetor de 5 números inteiros e mostre-os.\n",
        "meuvetor= []\n",
        "#para adicionar um valor ao vetor pode ser utilizado o metodo append()\n",
        "meuvetor.append(1)\n",
        "meuvetor.append(2)\n",
        "meuvetor.append(3)\n",
        "meuvetor.append(10)\n",
        "meuvetor.append(20)\n",
        "print(\"Os 5 números inteiros do vetor são: \",meuvetor)"
      ],
      "execution_count": null,
      "outputs": [
        {
          "output_type": "stream",
          "text": [
            "Os 5 números inteiros do vetor são:  [1, 2, 3, 10, 20]\n"
          ],
          "name": "stdout"
        }
      ]
    },
    {
      "cell_type": "code",
      "metadata": {
        "id": "hP53SuD3Fxe5",
        "colab": {
          "base_uri": "https://localhost:8080/",
          "height": 86
        },
        "outputId": "194a7f7d-7a4a-4130-bbca-2c3871394fe8"
      },
      "source": [
        "#2. Faça um Programa que leia um vetor de 10 números reais e mostre-os na ordem inversa.\n",
        "meuvetor=[]\n",
        "print(dir(meuvetor))\n",
        "meuvetor.append(1)\n",
        "meuvetor.append(2)\n",
        "meuvetor.append(3)\n",
        "print(meuvetor)\n",
        "#utilize o método reverse() para inverter a ordem que foi armazenada\n",
        "meuvetor.reverse()\n",
        "print(meuvetor)"
      ],
      "execution_count": null,
      "outputs": [
        {
          "output_type": "stream",
          "text": [
            "['__add__', '__class__', '__contains__', '__delattr__', '__delitem__', '__dir__', '__doc__', '__eq__', '__format__', '__ge__', '__getattribute__', '__getitem__', '__gt__', '__hash__', '__iadd__', '__imul__', '__init__', '__init_subclass__', '__iter__', '__le__', '__len__', '__lt__', '__mul__', '__ne__', '__new__', '__reduce__', '__reduce_ex__', '__repr__', '__reversed__', '__rmul__', '__setattr__', '__setitem__', '__sizeof__', '__str__', '__subclasshook__', 'append', 'clear', 'copy', 'count', 'extend', 'index', 'insert', 'pop', 'remove', 'reverse', 'sort']\n",
            "[1, 2, 3]\n",
            "[3, 2, 1]\n"
          ],
          "name": "stdout"
        }
      ]
    },
    {
      "cell_type": "code",
      "metadata": {
        "id": "yzb0sduBHbN5",
        "colab": {
          "base_uri": "https://localhost:8080/",
          "height": 128
        },
        "outputId": "68ef3661-6590-4c4d-f2c7-4c11cabb06e2"
      },
      "source": [
        "#3.Faça um Programa que leia 4 notas, mostre as notas e a média na tela.\n"
      ],
      "execution_count": null,
      "outputs": [
        {
          "output_type": "error",
          "ename": "IndentationError",
          "evalue": "ignored",
          "traceback": [
            "\u001b[0;36m  File \u001b[0;32m\"<ipython-input-13-6a28616d09c4>\"\u001b[0;36m, line \u001b[0;32m6\u001b[0m\n\u001b[0;31m    print(item)\u001b[0m\n\u001b[0m    ^\u001b[0m\n\u001b[0;31mIndentationError\u001b[0m\u001b[0;31m:\u001b[0m unexpected indent\n"
          ]
        }
      ]
    }
  ]
}