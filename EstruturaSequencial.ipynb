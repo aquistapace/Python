{
  "nbformat": 4,
  "nbformat_minor": 0,
  "metadata": {
    "colab": {
      "name": "EstruturaSequencial",
      "provenance": [],
      "authorship_tag": "ABX9TyP5WDY9C90xnUF1NN/GjsBw",
      "include_colab_link": true
    },
    "kernelspec": {
      "name": "python3",
      "display_name": "Python 3"
    }
  },
  "cells": [
    {
      "cell_type": "markdown",
      "metadata": {
        "id": "view-in-github",
        "colab_type": "text"
      },
      "source": [
        "<a href=\"https://colab.research.google.com/github/aquistapace/Python/blob/main/EstruturaSequencial.ipynb\" target=\"_parent\"><img src=\"https://colab.research.google.com/assets/colab-badge.svg\" alt=\"Open In Colab\"/></a>"
      ]
    },
    {
      "cell_type": "code",
      "metadata": {
        "id": "fazeZHG0l9ad",
        "colab": {
          "base_uri": "https://localhost:8080/",
          "height": 36
        },
        "outputId": "20176ae5-952d-430a-a3d8-c9a089fc2134"
      },
      "source": [
        "texto='meu texto'\n",
        "texto"
      ],
      "execution_count": null,
      "outputs": [
        {
          "output_type": "execute_result",
          "data": {
            "application/vnd.google.colaboratory.intrinsic+json": {
              "type": "string"
            },
            "text/plain": [
              "'meu texto'"
            ]
          },
          "metadata": {
            "tags": []
          },
          "execution_count": 4
        }
      ]
    },
    {
      "cell_type": "code",
      "metadata": {
        "id": "IbBkgqRcnII3",
        "colab": {
          "base_uri": "https://localhost:8080/",
          "height": 54
        },
        "outputId": "a2f8f2ad-f252-4b78-978a-92f9a443541c"
      },
      "source": [
        "numero=input('informe um numero')\n",
        "print('O numero informado foi,',numero)"
      ],
      "execution_count": null,
      "outputs": [
        {
          "output_type": "stream",
          "text": [
            "informe um numero50\n",
            "O numero informado foi, 50\n"
          ],
          "name": "stdout"
        }
      ]
    },
    {
      "cell_type": "code",
      "metadata": {
        "id": "OwjDevfMnnL7",
        "colab": {
          "base_uri": "https://localhost:8080/",
          "height": 72
        },
        "outputId": "2c3c4870-aecd-4bef-8f84-52a687da91c2"
      },
      "source": [
        "numero1=input('digite um numero')\n",
        "numero2=input('digite outro numero')\n",
        "soma=numero1+numero2\n",
        "print('A soma dos dois números é ,',soma)"
      ],
      "execution_count": null,
      "outputs": [
        {
          "output_type": "stream",
          "text": [
            "digite um numero5\n",
            "digite outro numero10\n",
            "A soma dos dois números é , 510\n"
          ],
          "name": "stdout"
        }
      ]
    },
    {
      "cell_type": "code",
      "metadata": {
        "id": "iXgne0m3oRzt",
        "colab": {
          "base_uri": "https://localhost:8080/",
          "height": 72
        },
        "outputId": "72bb6a60-4022-4270-975c-8500ce7108d2"
      },
      "source": [
        "numero2_str=input('Digite um numero')\n",
        "numero1_str= input('Digite outro numero')\n",
        "n1_int = int(numero1_str)\n",
        "n2_int= int(numero2_str)\n",
        "soma=n1_int+n2_int\n",
        "print('A soma dos dois números é ',soma)"
      ],
      "execution_count": null,
      "outputs": [
        {
          "output_type": "stream",
          "text": [
            "Digite um numero5\n",
            "Digite outro numero10\n",
            "A soma dos dois números é  15\n"
          ],
          "name": "stdout"
        }
      ]
    },
    {
      "cell_type": "code",
      "metadata": {
        "id": "XIPR0BhSpU3i",
        "colab": {
          "base_uri": "https://localhost:8080/",
          "height": 109
        },
        "outputId": "d991fe8b-b1be-42b1-a0a3-884668fdb26b"
      },
      "source": [
        "num1_str=input('Digite a nota 1')\n",
        "num2_str=input('Digite a nota 2')\n",
        "num3_str=input('Digite a nota 3')\n",
        "num4_str=input('Digite a nota 4')\n",
        "\n",
        "#convertendo as strings para inteiro\n",
        "num1_int=int(num1_str)\n",
        "num2_int=int(num2_str)\n",
        "num3_int=int(num3_str)\n",
        "num4_int=int(num4_str)\n",
        "\n",
        "#Média dos números inteiros\n",
        "soma=num1_int+num2_int+num3_int+num4_int\n",
        "media=soma/4\n",
        "\n",
        "#Imprimindo o Resultado na Tela\n",
        "print(\"A média final é \", media)"
      ],
      "execution_count": null,
      "outputs": [
        {
          "output_type": "stream",
          "text": [
            "Digite a nota 110\n",
            "Digite a nota 250\n",
            "Digite a nota 360\n",
            "Digite a nota 420\n",
            "A média final é  35.0\n"
          ],
          "name": "stdout"
        }
      ]
    },
    {
      "cell_type": "code",
      "metadata": {
        "id": "FKENBmQiq10E",
        "colab": {
          "base_uri": "https://localhost:8080/",
          "height": 54
        },
        "outputId": "4e41b971-8f83-427f-d121-1144813d371e"
      },
      "source": [
        "metro_str=input('Digite o metro')\n",
        "#convertendo string para inteiro\n",
        "metro_int=int(metro_str)\n",
        "#calculando quantos centimetros tem Nmetros\n",
        "centimetros=metro_int*100\n",
        "#Imprimindo na tela o resultado\n",
        "print(metro_str,\"metro equivale a \",centimetros,\"centimetros\")\n"
      ],
      "execution_count": null,
      "outputs": [
        {
          "output_type": "stream",
          "text": [
            "Digite o metro5\n",
            "5 metro equivale a  500 centimetros\n"
          ],
          "name": "stdout"
        }
      ]
    },
    {
      "cell_type": "code",
      "metadata": {
        "id": "2X4y73Flr9kz",
        "colab": {
          "base_uri": "https://localhost:8080/",
          "height": 54
        },
        "outputId": "99969f69-e85d-4fd8-bbb6-cface89a47f1"
      },
      "source": [
        "#Cálculo do Raio de um círculo\n",
        "raio=int(input('Digite o tamanho do raio do círculo'))\n",
        "\n",
        "area_circulo= 3.14*(raio**2)\n",
        "\n",
        "print('A area do círculo de raio',raio,'é ',area_circulo)"
      ],
      "execution_count": null,
      "outputs": [
        {
          "output_type": "stream",
          "text": [
            "Digite o tamanho do raio do círculo5\n",
            "A area do círculo de raio 5 é  78.5\n"
          ],
          "name": "stdout"
        }
      ]
    },
    {
      "cell_type": "code",
      "metadata": {
        "id": "rTIQIoiLuD0I",
        "colab": {
          "base_uri": "https://localhost:8080/",
          "height": 54
        },
        "outputId": "2cd46613-164c-477f-ba7b-2a805bea74dc"
      },
      "source": [
        "peixe=int(input('Digite o tamanho do peixe '))\n",
        "if peixe>50 :\n",
        "  excesso=peixe-50\n",
        "  multa=excesso*4\n",
        "  print('Você excedeu',excesso,'o valor da multa é de ',multa)\n",
        "else: print('Você não excedeu o tamnho do peixe')"
      ],
      "execution_count": null,
      "outputs": [
        {
          "output_type": "stream",
          "text": [
            "Digite o tamanho do peixe 40\n",
            "Você não excedeu o tamnho do peixe\n"
          ],
          "name": "stdout"
        }
      ]
    },
    {
      "cell_type": "code",
      "metadata": {
        "id": "CoQ1rds_vQno"
      },
      "source": [
        "valor_hora_trabalhada=int(input('Quanto você ganha por hora ? '))\n",
        "dias_trabalhados= int(input('Quantas horas você trabalha no mês? '))\n",
        "#Salario Bruto\n",
        "salario_bruto=valor_hora_trabalhada*dias_trabalhados\n",
        "#Cálculo dos descontos\n",
        "imposto_renda=salario_bruto*0.11\n",
        "inss=salario_bruto*0.08\n",
        "sindicato=salario_bruto*0.05\n",
        "descontos=imposto_renda+inss+sindicato\n",
        "#Salario Liquido\n",
        "salario_liquido=salario_bruto-descontos\n",
        "\n",
        "#Mostrando os resultados na tela\n",
        "print(\"O salario bruto é de R$: \",salario_bruto)\n",
        "print('quanto pagou ao imposto de renda: ',imposto_renda)\n",
        "print('quanto pagou ao INSS : ',inss)\n",
        "print ('quanto pagou ao sindicato',sindicato)\n",
        "print ('O salário líquido', salario_liquido)\n",
        " \n"
      ],
      "execution_count": null,
      "outputs": []
    }
  ]
}